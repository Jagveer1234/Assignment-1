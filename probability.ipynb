{
 "cells": [
  {
   "cell_type": "code",
   "execution_count": 1,
   "id": "3a7a408a",
   "metadata": {},
   "outputs": [
    {
     "name": "stdout",
     "output_type": "stream",
     "text": [
      "enter the number 1 : 8\n",
      "enter the number 2 : 9\n",
      "enter the number 3  : 55\n",
      "c is greatest\n"
     ]
    }
   ],
   "source": [
    "a=int(input(\"enter the number 1 : \"))\n",
    "b=int(input(\"enter the number 2 : \"))\n",
    "c=int(input(\"enter the number 3  : \"))\n",
    "if a>b and a>c:\n",
    "    print(\"a is greatest\")\n",
    "elif b>a and b>c:\n",
    "    print(\"b is greatest\")\n",
    "else:\n",
    "    print(\"c is greatest\")"
   ]
  },
  {
   "cell_type": "code",
   "execution_count": 2,
   "id": "0161b167",
   "metadata": {},
   "outputs": [],
   "source": [
    "import matplotlib.pyplot as plt"
   ]
  },
  {
   "cell_type": "code",
   "execution_count": 4,
   "id": "28ef733b",
   "metadata": {},
   "outputs": [
    {
     "data": {
      "image/png": "[encoded data removed]",
      "text/plain": [
       "<Figure size 432x288 with 1 Axes>"
      ]
     },
     "metadata": {
      "needs_background": "light"
     },
     "output_type": "display_data"
    }
   ],
   "source": [
    "x=[1,2,3,4,5]\n",
    "y=[6,7,8,4,2]\n",
    "plt.scatter(x,y)\n",
    "\n",
    "plt.xlabel('X')\n",
    "plt.ylabel('Y')\n",
    "plt.title('scatter plot')\n",
    "\n",
    "plt.show()\n"
   ]
  },
  {
   "cell_type": "code",
   "execution_count": 6,
   "id": "b779a682",
   "metadata": {},
   "outputs": [],
   "source": [
    "import seaborn as sns"
   ]
  },
  {
   "cell_type": "code",
   "execution_count": 8,
   "id": "f8897569",
   "metadata": {},
   "outputs": [
    {
     "data": {
      "image/png": "[encoded data removed]",
      "text/plain": [
       "<Figure size 432x288 with 1 Axes>"
      ]
     },
     "metadata": {
      "needs_background": "light"
     },
     "output_type": "display_data"
    }
   ],
   "source": [
    "x=[9,8,7,6,5]\n",
    "y=[5,4,3,2,1]\n",
    "\n",
    "sns.scatterplot(x=x,y=y)\n",
    "plt.title(\"scatter plot\")\n",
    "plt.show()\n"
   ]
  },
  {
   "cell_type": "code",
   "execution_count": 14,
   "id": "6569d8b0",
   "metadata": {},
   "outputs": [],
   "source": [
    "#from statistics import var\n",
    "\n"
   ]
  },
  {
   "cell_type": "code",
   "execution_count": 16,
   "id": "fe6c180d",
   "metadata": {},
   "outputs": [],
   "source": [
    "import numpy as np"
   ]
  },
  {
   "cell_type": "code",
   "execution_count": 17,
   "id": "fdbf2363",
   "metadata": {},
   "outputs": [
    {
     "name": "stdout",
     "output_type": "stream",
     "text": [
      "2.9166666666666665\n"
     ]
    }
   ],
   "source": [
    "data=[1,2,3,4,5,6]\n",
    "variance=np.var(data)\n",
    "print(variance)"
   ]
  },
  {
   "cell_type": "code",
   "execution_count": 20,
   "id": "f22dcf92",
   "metadata": {},
   "outputs": [
    {
     "name": "stdout",
     "output_type": "stream",
     "text": [
      "1.4142135623730951\n"
     ]
    }
   ],
   "source": [
    "numbers=[1,2,3,4,5]\n",
    "s=np.std(numbers)\n",
    "print(s)"
   ]
  },
  {
   "cell_type": "code",
   "execution_count": 21,
   "id": "c2c0668f",
   "metadata": {},
   "outputs": [
    {
     "name": "stdout",
     "output_type": "stream",
     "text": [
      "2.5\n"
     ]
    }
   ],
   "source": [
    "x=[1,2,3,4,5]\n",
    "y=[2,3,4,5,6]\n",
    "cov=np.cov(x,y)[0][1]\n",
    "print(cov)"
   ]
  },
  {
   "cell_type": "code",
   "execution_count": 22,
   "id": "a11ece43",
   "metadata": {
    "scrolled": true
   },
   "outputs": [
    {
     "name": "stdout",
     "output_type": "stream",
     "text": [
      "0.9999999999999999\n"
     ]
    }
   ],
   "source": [
    "x=[1,2,3,4,5]\n",
    "y=[2,3,4,5,6]\n",
    "correlation=np.corrcoef(x,y)[0][1]\n",
    "print(correlation)"
   ]
  },
  {
   "cell_type": "code",
   "execution_count": 28,
   "id": "74bf8dc0",
   "metadata": {},
   "outputs": [
    {
     "name": "stdout",
     "output_type": "stream",
     "text": [
      "0.28339330406755536\n"
     ]
    }
   ],
   "source": [
    "import random\n",
    "probability=random.random()\n",
    "print(probability)\n",
    "\n",
    "\n",
    "\n"
   ]
  },
  {
   "cell_type": "code",
   "execution_count": 32,
   "id": "82e26ebe",
   "metadata": {},
   "outputs": [
    {
     "name": "stdout",
     "output_type": "stream",
     "text": [
      "0.496073134640864\n"
     ]
    }
   ],
   "source": [
    "start=0\n",
    "end=1\n",
    "probability=random.uniform(start,end)\n",
    "print(probability)"
   ]
  },
  {
   "cell_type": "code",
   "execution_count": 34,
   "id": "bc4667cc",
   "metadata": {},
   "outputs": [
    {
     "name": "stdout",
     "output_type": "stream",
     "text": [
      "['banana']\n"
     ]
    }
   ],
   "source": [
    "items=['apple','banana','orange']\n",
    "weights=[0.1,0.3,0.6]\n",
    "selected_items=random.choices(items,weights=weights)\n",
    "print(selected_items)"
   ]
  },
  {
   "cell_type": "code",
   "execution_count": 35,
   "id": "053bb57d",
   "metadata": {},
   "outputs": [],
   "source": [
    "mean=0\n",
    "std=1\n",
    "sample=np.random.normal(mean,std,100)"
   ]
  },
  {
   "cell_type": "code",
   "execution_count": 38,
   "id": "48de3cf6",
   "metadata": {},
   "outputs": [
    {
     "name": "stdout",
     "output_type": "stream",
     "text": [
      "3.5\n"
     ]
    }
   ],
   "source": [
    "numbers=np.array([1,2,3,4,5,6])\n",
    "mean=np.mean(numbers)\n",
    "print(mean)"
   ]
  },
  {
   "cell_type": "code",
   "execution_count": 39,
   "id": "27d31d2d",
   "metadata": {},
   "outputs": [
    {
     "name": "stdout",
     "output_type": "stream",
     "text": [
      "3.5\n"
     ]
    }
   ],
   "source": [
    "median=np.median(numbers)\n",
    "print(median)"
   ]
  },
  {
   "cell_type": "code",
   "execution_count": 40,
   "id": "65d2dc89",
   "metadata": {},
   "outputs": [
    {
     "name": "stdout",
     "output_type": "stream",
     "text": [
      "1.707825127659933\n"
     ]
    }
   ],
   "source": [
    "stdev=np.std(numbers)\n",
    "print(stdev)"
   ]
  },
  {
   "cell_type": "code",
   "execution_count": 41,
   "id": "538ef661",
   "metadata": {},
   "outputs": [
    {
     "name": "stdout",
     "output_type": "stream",
     "text": [
      "2.9166666666666665\n"
     ]
    }
   ],
   "source": [
    "variance=np.var(numbers)\n",
    "print(variance)"
   ]
  },
  {
   "cell_type": "code",
   "execution_count": 42,
   "id": "711c9dad",
   "metadata": {},
   "outputs": [
    {
     "name": "stdout",
     "output_type": "stream",
     "text": [
      "[[ 2  4  6]\n",
      " [ 9 11 11]\n",
      " [11 11 11]]\n"
     ]
    }
   ],
   "source": [
    "a=np.matrix([[1,2,3],[4,5,6],[7,8,9]])\n",
    "b=np.matrix([[1,2,3],[5,6,5],[4,3,2]])\n",
    "c=a+b\n",
    "print(c)"
   ]
  },
  {
   "cell_type": "code",
   "execution_count": 43,
   "id": "ba259630",
   "metadata": {},
   "outputs": [
    {
     "data": {
      "text/plain": [
       "matrix([[ 0,  0,  0],\n",
       "        [-1, -1,  1],\n",
       "        [ 3,  5,  7]])"
      ]
     },
     "execution_count": 43,
     "metadata": {},
     "output_type": "execute_result"
    }
   ],
   "source": [
    "a-b"
   ]
  },
  {
   "cell_type": "code",
   "execution_count": 44,
   "id": "c9dd266c",
   "metadata": {},
   "outputs": [
    {
     "data": {
      "text/plain": [
       "matrix([[23, 23, 19],\n",
       "        [53, 56, 49],\n",
       "        [83, 89, 79]])"
      ]
     },
     "execution_count": 44,
     "metadata": {},
     "output_type": "execute_result"
    }
   ],
   "source": [
    "a@b"
   ]
  },
  {
   "cell_type": "code",
   "execution_count": 45,
   "id": "d5ff326a",
   "metadata": {},
   "outputs": [
    {
     "data": {
      "text/plain": [
       "matrix([[1.        , 1.        , 1.        ],\n",
       "        [0.8       , 0.83333333, 1.2       ],\n",
       "        [1.75      , 2.66666667, 4.5       ]])"
      ]
     },
     "execution_count": 45,
     "metadata": {},
     "output_type": "execute_result"
    }
   ],
   "source": [
    "a/b"
   ]
  },
  {
   "cell_type": "code",
   "execution_count": 48,
   "id": "79e6639b",
   "metadata": {},
   "outputs": [
    {
     "name": "stdout",
     "output_type": "stream",
     "text": [
      "[[-2.   1. ]\n",
      " [ 1.5 -0.5]]\n"
     ]
    }
   ],
   "source": [
    "c=np.matrix([[1,2],[3,4]])\n",
    "d=np.linalg.inv(c)\n",
    "print(d)\n",
    "               "
   ]
  },
  {
   "cell_type": "code",
   "execution_count": 50,
   "id": "7c9cdf0f",
   "metadata": {},
   "outputs": [
    {
     "name": "stdout",
     "output_type": "stream",
     "text": [
      "[[1 4]\n",
      " [2 5]\n",
      " [3 6]]\n"
     ]
    }
   ],
   "source": [
    "d=np.matrix([[1,2,3],[4,5,6]])\n",
    "e=d.T\n",
    "print(e)"
   ]
  },
  {
   "cell_type": "code",
   "execution_count": 55,
   "id": "0a00c841",
   "metadata": {},
   "outputs": [
    {
     "data": {
      "image/png": "[encoded data removed]",
      "text/plain": [
       "<Figure size 432x288 with 1 Axes>"
      ]
     },
     "metadata": {
      "needs_background": "light"
     },
     "output_type": "display_data"
    }
   ],
   "source": [
    "a=[1,2,3,4,5]\n",
    "b=[6,7,8,9,9]\n",
    "plt.xlabel(\"X\")\n",
    "plt.ylabel(\"Y\")\n",
    "plt.title(\"scattter plot\")\n",
    "plt.scatter(x,y)\n",
    "plt.show()"
   ]
  },
  {
   "cell_type": "code",
   "execution_count": 56,
   "id": "48b05779",
   "metadata": {},
   "outputs": [
    {
     "data": {
      "text/plain": [
       "5.25"
      ]
     },
     "execution_count": 56,
     "metadata": {},
     "output_type": "execute_result"
    }
   ],
   "source": [
    "data=[1,2,3,4,5,6,7,8]\n",
    "var1=np.var(data)\n",
    "var1"
   ]
  },
  {
   "cell_type": "code",
   "execution_count": 58,
   "id": "48684ec8",
   "metadata": {},
   "outputs": [
    {
     "data": {
      "text/plain": [
       "2.29128784747792"
      ]
     },
     "execution_count": 58,
     "metadata": {},
     "output_type": "execute_result"
    }
   ],
   "source": [
    "std1=np.std(data)\n",
    "std1"
   ]
  },
  {
   "cell_type": "code",
   "execution_count": 59,
   "id": "c16b4f44",
   "metadata": {},
   "outputs": [
    {
     "data": {
      "text/plain": [
       "4.5"
      ]
     },
     "execution_count": 59,
     "metadata": {},
     "output_type": "execute_result"
    }
   ],
   "source": [
    "mn=np.mean(data)\n",
    "mn"
   ]
  },
  {
   "cell_type": "code",
   "execution_count": 61,
   "id": "8c0c1f74",
   "metadata": {},
   "outputs": [
    {
     "data": {
      "text/plain": [
       "4.5"
      ]
     },
     "execution_count": 61,
     "metadata": {},
     "output_type": "execute_result"
    }
   ],
   "source": [
    "md=np.median(data)\n",
    "md"
   ]
  },
  {
   "cell_type": "code",
   "execution_count": 63,
   "id": "62e3edf4",
   "metadata": {},
   "outputs": [
    {
     "name": "stdout",
     "output_type": "stream",
     "text": [
      "[ 1  3  5  7  9 11 13 15]\n",
      "numbers of even number in list 0\n",
      "8\n",
      "\n",
      "  probability of even number  0.0\n",
      "\n",
      " numbers is divisible by 3 and 5 1\n",
      "\n",
      " probability of getting number is divisible by 3 and 5 = 0.125\n",
      "odd number in the list 7\n",
      "probability of getting a odd number  0.875\n"
     ]
    }
   ],
   "source": [
    "a=np.arange(1,16,2)\n",
    "print(a)\n",
    "even_count,odd_count,three_five,length=0,0,0,0\n",
    "for num in a:\n",
    "    if num%2==0:\n",
    "        even_count +=1\n",
    "    elif num%3==0 and num%5==0:\n",
    "        three_five +=1\n",
    "    else:\n",
    "        odd_count +=1\n",
    "    length +=1\n",
    "    \n",
    "print(\"numbers of even number in list\",even_count)\n",
    "print(length)\n",
    "print(\"\\n  probability of even number \",even_count/length)\n",
    "print(\"\\n numbers is divisible by 3 and 5\",three_five)\n",
    "print(\"\\n probability of getting number is divisible by 3 and 5 =\",three_five/length)\n",
    "print(\"odd number in the list\",odd_count)\n",
    "print(\"probability of getting a odd number \",odd_count/length)\n",
    "    \n",
    "    \n",
    "    \n",
    "    "
   ]
  },
  {
   "cell_type": "code",
   "execution_count": 64,
   "id": "eca14a64",
   "metadata": {},
   "outputs": [
    {
     "name": "stdout",
     "output_type": "stream",
     "text": [
      "[ 1  2  3  4  5  6  7  8  9 10 11 12 13 14 15]\n",
      "numbers of even number in list 7\n",
      "15\n",
      "\n",
      "  probability of even number  0.4666666666666667\n",
      "\n",
      " numbers is divisible by 3 and 5 1\n",
      "\n",
      " probability of getting number is divisible by 3 and 5 = 0.06666666666666667\n",
      "odd number in the list 7\n",
      "probability of getting a odd number  0.4666666666666667\n"
     ]
    }
   ],
   "source": [
    "a=np.arange(1,16,1)\n",
    "print(a)\n",
    "even_count,odd_count,three_five,length=0,0,0,0\n",
    "for num in a:\n",
    "    if num%2==0:\n",
    "        even_count +=1\n",
    "    elif num%3==0 and num%5==0:\n",
    "        three_five +=1\n",
    "    else:\n",
    "        odd_count +=1\n",
    "    length +=1\n",
    "    \n",
    "print(\"numbers of even number in list\",even_count)\n",
    "print(length)\n",
    "print(\"\\n  probability of even number \",even_count/length)\n",
    "print(\"\\n numbers is divisible by 3 and 5\",three_five)\n",
    "print(\"\\n probability of getting number is divisible by 3 and 5 =\",three_five/length)\n",
    "print(\"odd number in the list\",odd_count)\n",
    "print(\"probability of getting a odd number \",odd_count/length)\n",
    "    \n",
    "    \n",
    "    \n",
    "    "
   ]
  },
  {
   "cell_type": "code",
   "execution_count": 69,
   "id": "786bed46",
   "metadata": {},
   "outputs": [
    {
     "name": "stdout",
     "output_type": "stream",
     "text": [
      "[ 1  3  5  7  9 11 13 15]\n",
      "probability of even number 0.0\n",
      "probability of three and five number 0.125\n",
      "probability of odd number 0.875\n"
     ]
    }
   ],
   "source": [
    "b=np.arange(1,16,2)\n",
    "print(b)\n",
    "even,odd,three_five,length=0,0,0,0\n",
    "for i in b:\n",
    "    if i%2==0:\n",
    "        even +=1\n",
    "    elif  i%3==0 and i%5==0:\n",
    "        three_five +=1\n",
    "    else:\n",
    "        odd +=1\n",
    "\n",
    "    length +=1\n",
    "print(\"probability of even number\",even/length)\n",
    "print(\"probability of three and five number\",three_five/length)\n",
    "print(\"probability of odd number\",odd/length)"
   ]
  },
  {
   "cell_type": "code",
   "execution_count": 70,
   "id": "53156371",
   "metadata": {},
   "outputs": [
    {
     "name": "stdout",
     "output_type": "stream",
     "text": [
      "[ 1  2  3  4  5  6  7  8  9 10 11 12 13 14 15]\n",
      "probability of even number 0.4666666666666667\n",
      "probability of three and five number 0.06666666666666667\n",
      "probability of odd number 0.4666666666666667\n"
     ]
    }
   ],
   "source": [
    "b=np.arange(1,16,1)\n",
    "print(b)\n",
    "even,odd,three_five,length=0,0,0,0\n",
    "for i in b:\n",
    "    if i%2==0:\n",
    "        even +=1\n",
    "    elif  i%3==0 and i%5==0:\n",
    "        three_five +=1\n",
    "    else:\n",
    "        odd +=1\n",
    "\n",
    "    length +=1\n",
    "print(\"probability of even number\",even/length)\n",
    "print(\"probability of three and five number\",three_five/length)\n",
    "print(\"probability of odd number\",odd/length)"
   ]
  },
  {
   "cell_type": "code",
   "execution_count": 3,
   "id": "7a3ad258",
   "metadata": {},
   "outputs": [
    {
     "name": "stdout",
     "output_type": "stream",
     "text": [
      "[32, 21, 25, 49, 46, 24, 33, 31, 47, 40, 33, 30, 38, 34, 33, 28, 37, 25, 29, 21]\n"
     ]
    }
   ],
   "source": [
    "import random\n",
    "\n",
    "randomlist=[]\n",
    "for i in range(0,20):\n",
    "    n=random.randint(20,50)\n",
    "    randomlist.append(n)\n",
    "print(randomlist)"
   ]
  },
  {
   "cell_type": "code",
   "execution_count": 11,
   "id": "1f7faa01",
   "metadata": {},
   "outputs": [
    {
     "name": "stdout",
     "output_type": "stream",
     "text": [
      "all odd numbers between 0 to 10 [1 3 5 7 9]\n",
      "sd between o to 10 is 2.8284271247461903\n"
     ]
    }
   ],
   "source": [
    "import numpy as np\n",
    "\n",
    "data=np.arange(1,10,2)\n",
    "print(\"all odd numbers between 0 to 10\",data)\n",
    "sd=np.std(data)\n",
    "print(\"sd between o to 10 is\",sd)"
   ]
  },
  {
   "cell_type": "code",
   "execution_count": 10,
   "id": "c1c4236f",
   "metadata": {},
   "outputs": [
    {
     "name": "stdout",
     "output_type": "stream",
     "text": [
      "enter the number or string727\n",
      "it is palindrome\n"
     ]
    }
   ],
   "source": [
    "str=input((\"enter the number or string\"))\n",
    "if (str==str[::-1]):\n",
    "    print(\"it is palindrome\")\n",
    "else:\n",
    "    print(\"not palindrome\")"
   ]
  },
  {
   "cell_type": "code",
   "execution_count": null,
   "id": "bdb54a13",
   "metadata": {},
   "outputs": [],
   "source": []
  }
 ],
 "metadata": {
  "kernelspec": {
   "display_name": "Python 3 (ipykernel)",
   "language": "python",
   "name": "python3"
  },
  "language_info": {
   "codemirror_mode": {
    "name": "ipython",
    "version": 3
   },
   "file_extension": ".py",
   "mimetype": "text/x-python",
   "name": "python",
   "nbconvert_exporter": "python",
   "pygments_lexer": "ipython3",
   "version": "3.9.12"
  }
 },
 "nbformat": 4,
 "nbformat_minor": 5
}
